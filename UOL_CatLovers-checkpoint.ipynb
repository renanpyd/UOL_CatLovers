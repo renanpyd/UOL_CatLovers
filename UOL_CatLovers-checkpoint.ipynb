{
 "cells": [
  {
   "cell_type": "markdown",
   "id": "70fff9c1-78dd-4c61-80df-201fd4954456",
   "metadata": {},
   "source": [
    "# UOL CatLovers"
   ]
  },
  {
   "cell_type": "markdown",
   "id": "b37ee605-bf97-43cb-9f08-0315ccb8df53",
   "metadata": {},
   "source": [
    "##### Imagine que você é um engenheiro de dados em uma startup de tecnologia pet chamada “UOLCatLovers”. A UOLCatLovers está desenvolvendo um aplicativo móvel que fornece fatos interessantes sobre gatos para seus usuários. Os fatos são extraídos da API Cat Facts.\n",
    "\n",
    "##### Documentação em: https://alexwohlbruck.github.io/cat-facts/docs/\n",
    "\n",
    "##### As respostas devem constar em um repositório no GitHub e o link do repositório deve ser compartilhado para a avaliação.\n",
    " \n",
    "##### 1 - Como a startup foi recém criada, ainda não há uma grande demanda pelos dados, então você precisa desenvolver um script Python simples que extraía os dados de fatos sobre gatos (cat facts) da API e salva em um arquivo CSV local."
   ]
  },
  {
   "cell_type": "markdown",
   "id": "e3bf4f0b-985d-4c88-bf06-3e08232e649d",
   "metadata": {},
   "source": [
    "<p>Segue a criação do script que extrai os fatos sobre gatos da API Cat Facts e salva em um arquivo CSV local. Uso a biblioteca requests para fazer a solicitação HTTP para a API e a biblioteca csv para manipular o arquivos."
   ]
  },
  {
   "cell_type": "code",
   "execution_count": 2,
   "id": "1dfc46d9-7de0-473d-b81e-f429e1a23514",
   "metadata": {},
   "outputs": [
    {
     "name": "stdout",
     "output_type": "stream",
     "text": [
      "Requirement already satisfied: requests in c:\\users\\renan lima andrade\\anaconda3\\lib\\site-packages (2.31.0)\n",
      "Requirement already satisfied: charset-normalizer<4,>=2 in c:\\users\\renan lima andrade\\anaconda3\\lib\\site-packages (from requests) (2.0.4)\n",
      "Requirement already satisfied: idna<4,>=2.5 in c:\\users\\renan lima andrade\\anaconda3\\lib\\site-packages (from requests) (3.4)\n",
      "Requirement already satisfied: urllib3<3,>=1.21.1 in c:\\users\\renan lima andrade\\anaconda3\\lib\\site-packages (from requests) (2.0.7)\n",
      "Requirement already satisfied: certifi>=2017.4.17 in c:\\users\\renan lima andrade\\anaconda3\\lib\\site-packages (from requests) (2024.2.2)\n"
     ]
    }
   ],
   "source": [
    "# Instalação da lib requests\n",
    "!pip install requests"
   ]
  },
  {
   "cell_type": "code",
   "execution_count": 4,
   "id": "f0478248-13c7-43ab-9433-4988f0f89814",
   "metadata": {},
   "outputs": [
    {
     "name": "stdout",
     "output_type": "stream",
     "text": [
      "Fatos sobre gatos salvos com sucesso em 'cat_facts.csv'.\n"
     ]
    }
   ],
   "source": [
    "# Importando as bibliotecas\n",
    "import requests\n",
    "import csv\n",
    "\n",
    "# Função que acessa a API\n",
    "def get_cat_facts():\n",
    "    url = \"https://cat-fact.herokuapp.com/facts\"\n",
    "    response = requests.get(url)\n",
    "    if response.status_code == 200: # Verifica se a resposta da solicitação foi bem-sucedida (código de status HTTP 200).\n",
    "        return response.json()\n",
    "    else:\n",
    "        print(\"Falha ao obter fatos sobre gatos:\", response.status_code)\n",
    "        return None\n",
    "# Função de escrita do arquivo .csv\n",
    "def save_to_csv(cat_facts, filename):\n",
    "    with open(filename, mode='w', newline='', encoding='utf-8') as file:\n",
    "        writer = csv.DictWriter(file, fieldnames=['id', 'text'])\n",
    "        writer.writeheader()\n",
    "        for fact in cat_facts:\n",
    "            writer.writerow({'id': fact['_id'], 'text': fact['text']})\n",
    "\n",
    "if __name__ == \"__main__\":\n",
    "    cat_facts = get_cat_facts()\n",
    "    if cat_facts:\n",
    "        save_to_csv(cat_facts, 'cat_facts.csv')\n",
    "        print(\"Fatos sobre gatos salvos com sucesso em 'cat_facts.csv'.\")\n"
   ]
  },
  {
   "cell_type": "markdown",
   "id": "03039e4f-dd53-4781-9d16-4f15e7459b8d",
   "metadata": {},
   "source": [
    "<p> Resumindo, essa função é responsável por fazer uma solicitação para a API Cat Facts, verificar se a solicitação foi bem-sucedida e retornar os fatos sobre gatos se estiverem disponíveis. Se houver algum problema na solicitação, a função imprime uma mensagem de erro e retorna None. </p>"
   ]
  },
  {
   "cell_type": "markdown",
   "id": "e999349d-1088-4683-baae-1180c1b9dcd4",
   "metadata": {},
   "source": [
    "##### 2 - Com o tempo, o aplicativo ganhou popularidade e o número de fatos sobre gatos cresceu exponencialmente. Agora, a solução local não é mais viável e é necessário transpor a solução para a nuvem. Você precisa projetar uma arquitetura na plataforma Google Cloud que seja capaz de extrair, armazenar e disponibilizar os dados para os times de anaytics. Não é necessário implementar ou codificar, apenas desenhar a arquitetura."
   ]
  },
  {
   "cell_type": "markdown",
   "id": "2161ee7e-1cc2-49d3-b586-3ecc044d9b21",
   "metadata": {},
   "source": [
    "Para transpor a solução para a cloud GCP, podemos projetar uma arquitetura usando os serviços:\r\n",
    "\r\n",
    "Google Cloud Functions : Para criar uma função serverless que seja acionada periodicamente para extrair os dados da API Cat Facts. Essa função fica responsável por fazer a solicitação HTTP para a API e armazenar os dados em um banco de dados na nuvem.\r\n",
    "\r\n",
    "Google Cloud Pub/Sub : Após extrair os dados, publicamos em um tópico do Pub/Sub. Isso permite que os dados sejam transmitidos de forma assíncrona para os consumidores.\r\n",
    "\r\n",
    "Google Cloud Storage : Armazenamos os dados extraídos em um bucket do Cloud Storage. Os dados podem ser armazenados em formato JSON ou CSV, dependendo da necessidade.\r\n",
    "\r\n",
    "Google BigQuery : Para disponibilizar os dados para os times de analytics, carregamos os dados armazenados no Cloud Storage para o BigQuery. O BigQuery é um armazém de dados totalmente gerenciado que permite consultar e analisar grandes conjuntos de dados com fac\n",
    "\n",
    "Looker Studio : Ainda podemos utilizar essa ferramenta de visualização, antes conhecida como Google Data Studio, para criar dashboard com visões das extrações.ilidade.\r\n",
    "\r\n",
    "Google Cloud Scheduler : Configuramos o Cloud Scheduler para acionar a função do Cloud Functions em intervalos regulares, garantindo que os dados sejam atualizados periodicamente.\r\n",
    "\r\n",
    "Essa arquitetura permite uma solução escalável e gerenciada na nuvem, onde os dados são extraídos, armazenados e disponibilizados para os times de analytics de forma eficiente o, sob o link:nfiável.</p>"
   ]
  },
  {
   "cell_type": "markdown",
   "id": "a56b3304-8e25-4fbe-b5e0-f1796f4c162c",
   "metadata": {},
   "source": [
    "https://github.com/renanpyd/UOL_CatLovers/blob/main/arquitetura-GCP-UOL-CatLovers.pdf"
   ]
  },
  {
   "cell_type": "markdown",
   "id": "21fe1444-9803-43df-8629-1b9c96aa8094",
   "metadata": {},
   "source": [
    "##### 3 - Com o tempo, o time de analytics também sentiu necessidade de realizar suas próprias consultas sobre os dados, como a tecnologia mais conhecida por eles é o BigQuery, você precisa especificar o esquema da tabela de dados de fatos sobre gatos (cat facts), inclua os campos, tipos de campos e quaisquer outras considerações necessárias. A especificação pode ser feita por diagrama ou por código."
   ]
  },
  {
   "cell_type": "markdown",
   "id": "2c14186a-263b-40b8-b81b-4956d186eb0e",
   "metadata": {},
   "source": [
    "Para especificar o esquema da tabela cat facts no BigQuery, podemos fazê-lo por meio de um código SQL que define a estrutura da tabela:"
   ]
  },
  {
   "cell_type": "code",
   "execution_count": 6,
   "id": "1c8c2c56-13e6-418f-9919-63384d9e3ccd",
   "metadata": {},
   "outputs": [
    {
     "data": {
      "text/plain": [
       "'\\nCREATE TABLE cat_facts (\\n                        fact_id STRING\\n                       ,fact_text STRING\\n                       ,user_id STRING\\n                       ,upvotes INT64\\n                       ,createdAt TIMESTAMP\\n                       ,updatedAt TIMESTAMP\\n                       ,deleted BOOLEAN\\n);\\n'"
      ]
     },
     "execution_count": 6,
     "metadata": {},
     "output_type": "execute_result"
    }
   ],
   "source": [
    "\"\"\"\n",
    "CREATE TABLE cat_facts (\n",
    "                        fact_id STRING\n",
    "                       ,fact_text STRING\n",
    "                       ,user_id STRING\n",
    "                       ,upvotes INT64\n",
    "                       ,createdAt TIMESTAMP\n",
    "                       ,updatedAt TIMESTAMP\n",
    "                       ,deleted BOOLEAN\n",
    ");\n",
    "\"\"\""
   ]
  },
  {
   "cell_type": "code",
   "execution_count": 7,
   "id": "cbea759d-7054-4bd1-84fd-6ae67ce0b05d",
   "metadata": {},
   "outputs": [
    {
     "ename": "SyntaxError",
     "evalue": "invalid syntax (3907293630.py, line 3)",
     "output_type": "error",
     "traceback": [
      "\u001b[1;36m  Cell \u001b[1;32mIn[7], line 3\u001b[1;36m\u001b[0m\n\u001b[1;33m    - `fact_id`: Uma string que representa o identificador único de cada fato sobre gatos#\u001b[0m\n\u001b[1;37m      ^\u001b[0m\n\u001b[1;31mSyntaxError\u001b[0m\u001b[1;31m:\u001b[0m invalid syntax\n"
     ]
    }
   ],
   "source": [
    "# Neste esquema:\r\n",
    "#\n",
    "- `fact_id`: Uma string que representa o identificador único de cada fato sobre gatos#\r\n",
    "- `fact_text`: Uma string que armazena o texto do fato sobre gato#.\r\n",
    "- `user_id`: Uma string que representa o identificador único do usuário que adicionou o fato sobre gatos (se aplicáve#).\r\n",
    "- `upvotes`: Um número inteiro que representa a contagem de votos positivos recebidos pelo fato sobre ga#os.\r\n",
    "- `createdAt`: Um timestamp que indica a data e hora em que o fato sobre gatos foi cr#ado.\r\n",
    "- `updatedAt`: Um timestamp que indica a data e hora em que o fato sobre gatos foi atualizado pela últim# vez.\r\n",
    "- `deleted`: Um booleano que indica se o fato sobre gatos foi excluído.xcluído."
   ]
  },
  {
   "cell_type": "markdown",
   "id": "ddb45a62-f3eb-4f6d-bb51-b24e7f249160",
   "metadata": {},
   "source": [
    "##### 4 - Apesar dos dados no BigQuery, o time de analytics não está conseguindo realizar as consultas por conta própria e pediu sua ajuda. Crie uma consulta que extraia os fatos que foram atualizados em agosto de 2020 para um estudo de caso demandado por eles."
   ]
  },
  {
   "cell_type": "code",
   "execution_count": 8,
   "id": "2238c050-f940-4de1-af34-0181c7eeccf2",
   "metadata": {},
   "outputs": [
    {
     "data": {
      "text/plain": [
       "'\\nSELECT\\n    fact_id,\\n    fact_text,\\n    user_id,\\n    upvotes,\\n    createdAt,\\n    updatedAt,\\n    deleted\\nFROM\\n    `projeto.base_de_dados.cat_facts`\\nWHERE\\n    EXTRACT(YEAR FROM updatedAt) = 2020\\n    AND EXTRACT(MONTH FROM updatedAt) = 8;\\n\\n'"
      ]
     },
     "execution_count": 8,
     "metadata": {},
     "output_type": "execute_result"
    }
   ],
   "source": [
    "\"\"\"\n",
    "SELECT\n",
    "    fact_id,\n",
    "    fact_text,\n",
    "    user_id,\n",
    "    upvotes,\n",
    "    createdAt,\n",
    "    updatedAt,\n",
    "    deleted\n",
    "FROM\n",
    "    `projeto.base_de_dados.cat_facts`\n",
    "WHERE\n",
    "    EXTRACT(YEAR FROM updatedAt) = 2020\n",
    "    AND EXTRACT(MONTH FROM updatedAt) = 8;\n",
    "\n",
    "\"\"\""
   ]
  },
  {
   "cell_type": "markdown",
   "id": "3bb7cd61-8173-4caf-859d-b85099372e88",
   "metadata": {},
   "source": [
    "##### 5 - O time de desenvolvimento soube da sua habilidade com consultas SQL e decidiu se aproveitar da fila de demandas para solicitar uma amostra da base de fatos sobre gatos (cat facts) para popular o ambiente de QA deles. O time solicitou uma consulta SQL que extraia, de forma aleatória, 10% dos registros da base contendo as informações de texto, data de criação e data de atualização. Uma consideração importante feita pelo time de desenvolvimento é que eles precisam da consulta SQL para extrair os dados para um arquivo CSV separado por vírgulas."
   ]
  },
  {
   "cell_type": "code",
   "execution_count": 9,
   "id": "2a4d0ef9-3bd0-4875-af97-15b89cfa6721",
   "metadata": {},
   "outputs": [
    {
     "data": {
      "text/plain": [
       "'\\nSELECT\\n    fact_text,\\n    createdAt,\\n    updatedAt\\nFROM (\\n    SELECT\\n        fact_text,\\n        createdAt,\\n        updatedAt,\\n        RAND() AS rand_val\\n    FROM\\n        `projeto.base_de_dados.cat_facts`\\n)\\nWHERE\\n    rand_val <= 0.1\\n    \\n'"
      ]
     },
     "execution_count": 9,
     "metadata": {},
     "output_type": "execute_result"
    }
   ],
   "source": [
    "\"\"\"\n",
    "SELECT\n",
    "    fact_text,\n",
    "    createdAt,\n",
    "    updatedAt\n",
    "FROM (\n",
    "    SELECT\n",
    "        fact_text,\n",
    "        createdAt,\n",
    "        updatedAt,\n",
    "        RAND() AS rand_val\n",
    "    FROM\n",
    "        `projeto.base_de_dados.cat_facts`\n",
    ")\n",
    "WHERE\n",
    "    rand_val <= 0.1\n",
    "    \n",
    "\"\"\""
   ]
  },
  {
   "cell_type": "code",
   "execution_count": 10,
   "id": "7031f4dd-10a4-4e39-be90-2b1ccd44370d",
   "metadata": {},
   "outputs": [
    {
     "ename": "SyntaxError",
     "evalue": "incomplete input (1584878111.py, line 1)",
     "output_type": "error",
     "traceback": [
      "\u001b[1;36m  Cell \u001b[1;32mIn[10], line 1\u001b[1;36m\u001b[0m\n\u001b[1;33m    \"\"\"\u001b[0m\n\u001b[1;37m    ^\u001b[0m\n\u001b[1;31mSyntaxError\u001b[0m\u001b[1;31m:\u001b[0m incomplete input\n"
     ]
    }
   ],
   "source": [
    "\"\"\" \n",
    "Aqui selecionamos os campos fact_text, createdAt e updatedAt da tabela cat_facts.\r\n",
    "Na subconsulta interna, estamos selecionando os campos mencionados e gerando um valor aleatório utilizando a função RAND() e nomeando-o como rand_val.\r\n",
    "Na consulta principal, estamos filtrando os registros onde o valor aleatório (rand_val) é menor ou igual a 0.1\n",
    ", representando aproximadamente 10% dos registros da ta  la.\r\n",
    "Esses registros selecionados serão retornados como uma amostra aleatória de 10% dos dados da ab\n",
    "ela.\r\n",
    "Para salvar o resultado dessa consulta em um arquivo CSV separado por vla, devemos uírgutilizar as opções de exportação oferecidas pelo próprio BigQu\n",
    "ery ou entxemosecutar a consulta e salvar o resultado manualmente como um aro csv.q\n",
    "uivigo."
   ]
  },
  {
   "cell_type": "code",
   "execution_count": null,
   "id": "e771a7e0-35ea-49d8-927a-1d5209a11dfb",
   "metadata": {},
   "outputs": [],
   "source": []
  }
 ],
 "metadata": {
  "kernelspec": {
   "display_name": "Python 3 (ipykernel)",
   "language": "python",
   "name": "python3"
  },
  "language_info": {
   "codemirror_mode": {
    "name": "ipython",
    "version": 3
   },
   "file_extension": ".py",
   "mimetype": "text/x-python",
   "name": "python",
   "nbconvert_exporter": "python",
   "pygments_lexer": "ipython3",
   "version": "3.11.7"
  }
 },
 "nbformat": 4,
 "nbformat_minor": 5
}
